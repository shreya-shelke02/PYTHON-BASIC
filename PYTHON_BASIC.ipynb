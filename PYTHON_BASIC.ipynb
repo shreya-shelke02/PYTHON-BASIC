{
  "nbformat": 4,
  "nbformat_minor": 0,
  "metadata": {
    "colab": {
      "provenance": []
    },
    "kernelspec": {
      "name": "python3",
      "display_name": "Python 3"
    },
    "language_info": {
      "name": "python"
    }
  },
  "cells": [
    {
      "cell_type": "markdown",
      "source": [
        "#Python Basics Questions\n",
        "\n",
        "Q1. What is Python, and why is it popular\n",
        "  - Python is programming language that lets you write instructions for computer to follow.\n",
        "  It is popular because it is easy to learn, it has large active community, extensive libraries and it is platform independent.\n",
        "\n",
        "Q2.What is an interpreter in Python  in very simple way\n",
        "  - An interpreter in Python is a program that reads and runs your Python code line by line.\n",
        "\n",
        "Q3. What are pre-defined keywords in Python in very simple way\n",
        "  - Pre-defined keywords in Python are special words that have fixed meanings and are already built into the language. You can’t use them as names for your variables or functions.\n",
        "\n",
        "Q4.Can keywords be used as variable names\n",
        "  - No, keywords cannot be used as variable names in Python\n",
        "\n",
        "Q5. What is mutability in Python\n",
        "  - Mutability in Python refers to whether or not a value (object) can be changed after it's created.\n",
        "\n",
        "Q6. Why are lists mutable, but tuples are immutable  in simple way\n",
        "  - A list in Python is designed to be flexible, so you can add, remove, or change its items. That’s why it's mutable.\n",
        "\n",
        "A tuple is meant to be fixed and safe from changes, like a locked container. That’s why it's immutable.\n",
        "\n",
        "Q7. What is the difference between “==” and “is” operators in Python\n",
        "  - == checks if values are the same\n",
        "  - is checks if they are the exact same object in memory\n",
        "\n",
        "Q8. What are logical operators in Python\n",
        "  - AND, OR , XOR is logical operator in python\n",
        "\n",
        "Q9. What is type casting in Python\n",
        "  - Type casting in Python means changing the type of a value from one type to another — like from a number to a string, or a string to a number.\n",
        "\n",
        "Q10. What is the difference between implicit and explicit type casting\n",
        "    - Implicit type casting done by Python automatically\n",
        "Python decides and converts the type for you without asking.\n",
        "  - Explicit type casting means done by you\n",
        "You manually convert the type using functions like int(), float(), or str().\n",
        "\n",
        "Q11. What is the purpose of conditional statements in Python\n",
        "  - Conditional statements in Python are used to make decisions in your code based on whether a condition is True or False.\n",
        "\n",
        "Q12. How does the elif statement work\n",
        "  - The elif (short for \"else if\") statement allows you to check multiple conditions.\n",
        "\n",
        "Q13. What is the difference between for and while loops\n",
        "  - for loop:\n",
        "Used when you know how many times you want to repeat something.\n",
        "\n",
        "  - while loop:\n",
        "Used when you want to repeat something as long as a condition is True.\n",
        "\n",
        "Q14. Describe a scenario where a while loop is more suitable than a for loop\n",
        "  - while loop is best when the number of repetitions depends on a condition and is not fixed.\n",
        "\n",
        "  for loop works well when you have a specific number of iterations."
      ],
      "metadata": {
        "id": "io7EpHg3vmHP"
      }
    },
    {
      "cell_type": "markdown",
      "source": [
        "# PRACTICAL QUESTIONS"
      ],
      "metadata": {
        "id": "MzCuclel07Tg"
      }
    },
    {
      "cell_type": "code",
      "source": [
        "# Q1.Write a Python program to print \"Hello, World!\n",
        "print(\"Hello, World!\")\n"
      ],
      "metadata": {
        "colab": {
          "base_uri": "https://localhost:8080/"
        },
        "id": "Pbrcc5BW1CEm",
        "outputId": "016a553d-e81f-49ac-f2b0-d27edd7718fe"
      },
      "execution_count": 2,
      "outputs": [
        {
          "output_type": "stream",
          "name": "stdout",
          "text": [
            "Hello, World!\n"
          ]
        }
      ]
    },
    {
      "cell_type": "code",
      "source": [
        "#Q2. Write a Python program that displays your name and age\n",
        "name = input(\"Enter your name:\")\n",
        "age = int(input(\"Enter your age:\"))\n"
      ],
      "metadata": {
        "colab": {
          "base_uri": "https://localhost:8080/"
        },
        "id": "h0_LNG801RLp",
        "outputId": "5edb8992-8b58-4acc-fef1-0e7b9eeac0ad"
      },
      "execution_count": 6,
      "outputs": [
        {
          "name": "stdout",
          "output_type": "stream",
          "text": [
            "Enter your name:shreya\n",
            "Enter your age:21\n"
          ]
        }
      ]
    },
    {
      "cell_type": "code",
      "source": [
        "# Q3. Write code to print all the pre-defined keywords in Python using the keyword library\n",
        "help(\"keywords\")"
      ],
      "metadata": {
        "colab": {
          "base_uri": "https://localhost:8080/"
        },
        "id": "ffazrS3g18t0",
        "outputId": "00137896-94b9-481c-bd1d-150b22e258e9"
      },
      "execution_count": 7,
      "outputs": [
        {
          "output_type": "stream",
          "name": "stdout",
          "text": [
            "\n",
            "Here is a list of the Python keywords.  Enter any keyword to get more help.\n",
            "\n",
            "False               class               from                or\n",
            "None                continue            global              pass\n",
            "True                def                 if                  raise\n",
            "and                 del                 import              return\n",
            "as                  elif                in                  try\n",
            "assert              else                is                  while\n",
            "async               except              lambda              with\n",
            "await               finally             nonlocal            yield\n",
            "break               for                 not                 \n",
            "\n"
          ]
        }
      ]
    },
    {
      "cell_type": "code",
      "source": [
        "# Q4. Write a program that checks if a given word is a Python keyword.\n",
        "print(help(\"keywords\"))"
      ],
      "metadata": {
        "colab": {
          "base_uri": "https://localhost:8080/"
        },
        "id": "aMw548t_2Wax",
        "outputId": "ea459812-9302-4ba4-b000-23818ed61fab"
      },
      "execution_count": 8,
      "outputs": [
        {
          "output_type": "stream",
          "name": "stdout",
          "text": [
            "\n",
            "Here is a list of the Python keywords.  Enter any keyword to get more help.\n",
            "\n",
            "False               class               from                or\n",
            "None                continue            global              pass\n",
            "True                def                 if                  raise\n",
            "and                 del                 import              return\n",
            "as                  elif                in                  try\n",
            "assert              else                is                  while\n",
            "async               except              lambda              with\n",
            "await               finally             nonlocal            yield\n",
            "break               for                 not                 \n",
            "\n",
            "None\n"
          ]
        }
      ]
    },
    {
      "cell_type": "code",
      "source": [
        "#Q5.  Create a list and tuple in Python, and demonstrate how attempting to change an element works differently\n",
        "#for each.\n",
        "\n",
        "list1 = [1,2,3,4,5]\n",
        "tuple1 =(1,2,3,4,5)\n",
        "list1[0] = 1000\n",
        "print(list1)\n",
        "tuple1[0] == 1000\n",
        "print(tuple1)"
      ],
      "metadata": {
        "colab": {
          "base_uri": "https://localhost:8080/"
        },
        "id": "SvzcgjAJ2nhg",
        "outputId": "0f6d117c-cfc9-4a58-e025-04a930d32dbf"
      },
      "execution_count": 21,
      "outputs": [
        {
          "output_type": "stream",
          "name": "stdout",
          "text": [
            "[1000, 2, 3, 4, 5]\n",
            "(1, 2, 3, 4, 5)\n"
          ]
        }
      ]
    },
    {
      "cell_type": "code",
      "source": [
        "# Q6. Write a function to demonstrate the behavior of mutable and immutable arguments.\n",
        "\n"
      ],
      "metadata": {
        "id": "924fBWs44WWL"
      },
      "execution_count": null,
      "outputs": []
    },
    {
      "cell_type": "code",
      "source": [
        "#Q7.  Write a program that performs basic arithmetic operations on two user-input numbers\n",
        "\n",
        "a = int(input(\"Enter a number :\"))\n",
        "b = int(input(\"Enter anumber\"))\n",
        "print(a+b)"
      ],
      "metadata": {
        "colab": {
          "base_uri": "https://localhost:8080/"
        },
        "id": "LZneqXw14jAH",
        "outputId": "6a31853a-c44c-44ce-953a-92cd987d7fe4"
      },
      "execution_count": 22,
      "outputs": [
        {
          "output_type": "stream",
          "name": "stdout",
          "text": [
            "Enter a number :50\n",
            "Enter anumber20\n",
            "70\n"
          ]
        }
      ]
    },
    {
      "cell_type": "code",
      "source": [
        "\n",
        "#Q8. Write a program to demonstrate the use of logical operators\n",
        "\n",
        "a = 6\n",
        "b = 8\n",
        "\n",
        "if a > 0 and b > 6:\n",
        "    print(\"Both a and b are positive.\")\n",
        "\n",
        "\n",
        "if a > 0 or b > 6:\n",
        "    print(\"Both a and b are negative.\")\n",
        "\n",
        ""
      ],
      "metadata": {
        "colab": {
          "base_uri": "https://localhost:8080/"
        },
        "id": "CSg9gAiV42SB",
        "outputId": "0461f802-4c2a-44c6-9663-6b41bad83992"
      },
      "execution_count": 35,
      "outputs": [
        {
          "output_type": "stream",
          "name": "stdout",
          "text": [
            "Both a and b are positive.\n",
            "Both a and b are negative.\n"
          ]
        }
      ]
    },
    {
      "cell_type": "code",
      "source": [
        "#Q9. 9. Write a Python program to convert user input from string to integer, float, and boolean types.\n",
        "\n",
        "name = input(\"Enter the string:\")"
      ],
      "metadata": {
        "colab": {
          "base_uri": "https://localhost:8080/"
        },
        "id": "K-ks8Wen6jKY",
        "outputId": "b09abd40-9df0-426d-c569-3da40f560bc7"
      },
      "execution_count": 55,
      "outputs": [
        {
          "name": "stdout",
          "output_type": "stream",
          "text": [
            "Enter the string:324\n"
          ]
        }
      ]
    },
    {
      "cell_type": "code",
      "source": [
        "type(name)"
      ],
      "metadata": {
        "colab": {
          "base_uri": "https://localhost:8080/"
        },
        "id": "xQCeXf7I8all",
        "outputId": "9ae39aaa-d407-4335-f72a-0ce2bd654191"
      },
      "execution_count": 56,
      "outputs": [
        {
          "output_type": "execute_result",
          "data": {
            "text/plain": [
              "str"
            ]
          },
          "metadata": {},
          "execution_count": 56
        }
      ]
    },
    {
      "cell_type": "code",
      "source": [
        "int(name)"
      ],
      "metadata": {
        "colab": {
          "base_uri": "https://localhost:8080/"
        },
        "id": "Jj-HOvvl8eNp",
        "outputId": "3f9ad047-c88b-49a9-df48-3fdfd18a9c5a"
      },
      "execution_count": 57,
      "outputs": [
        {
          "output_type": "execute_result",
          "data": {
            "text/plain": [
              "324"
            ]
          },
          "metadata": {},
          "execution_count": 57
        }
      ]
    },
    {
      "cell_type": "code",
      "source": [
        "float(name)"
      ],
      "metadata": {
        "colab": {
          "base_uri": "https://localhost:8080/"
        },
        "id": "-9QGDSij8pby",
        "outputId": "4023e476-d5a6-466b-a890-2d026070cbe4"
      },
      "execution_count": 58,
      "outputs": [
        {
          "output_type": "execute_result",
          "data": {
            "text/plain": [
              "324.0"
            ]
          },
          "metadata": {},
          "execution_count": 58
        }
      ]
    },
    {
      "cell_type": "code",
      "source": [
        "bool(name)"
      ],
      "metadata": {
        "colab": {
          "base_uri": "https://localhost:8080/"
        },
        "id": "IXBBP_xZ8rTZ",
        "outputId": "78533d5a-4c75-47c7-9b49-d97ee01f71b9"
      },
      "execution_count": 59,
      "outputs": [
        {
          "output_type": "execute_result",
          "data": {
            "text/plain": [
              "True"
            ]
          },
          "metadata": {},
          "execution_count": 59
        }
      ]
    },
    {
      "cell_type": "code",
      "source": [
        "#Q10. Write code to demonstrate type casting with list elements.\n",
        "\n",
        "list = [1,\"shreya\",\"pwskills\",10000,45]\n",
        "list"
      ],
      "metadata": {
        "colab": {
          "base_uri": "https://localhost:8080/"
        },
        "id": "fqmQu18k8tfC",
        "outputId": "f38945e9-3c20-414a-9734-2620f3296450"
      },
      "execution_count": 60,
      "outputs": [
        {
          "output_type": "execute_result",
          "data": {
            "text/plain": [
              "[1, 'shreya', 'pwskills', 10000, 45]"
            ]
          },
          "metadata": {},
          "execution_count": 60
        }
      ]
    },
    {
      "cell_type": "code",
      "source": [
        "list[2]"
      ],
      "metadata": {
        "colab": {
          "base_uri": "https://localhost:8080/",
          "height": 36
        },
        "id": "WK3lzWXQ88x0",
        "outputId": "ef430bf2-579b-4879-d1f8-3d5a710c86a9"
      },
      "execution_count": 62,
      "outputs": [
        {
          "output_type": "execute_result",
          "data": {
            "text/plain": [
              "'pwskills'"
            ],
            "application/vnd.google.colaboratory.intrinsic+json": {
              "type": "string"
            }
          },
          "metadata": {},
          "execution_count": 62
        }
      ]
    },
    {
      "cell_type": "code",
      "source": [
        "list[2] = \"aashu\"\n",
        "list"
      ],
      "metadata": {
        "colab": {
          "base_uri": "https://localhost:8080/"
        },
        "id": "GjHdYV5G9B2I",
        "outputId": "d4c0e011-3e9d-406b-ad35-8c36ca1415ee"
      },
      "execution_count": 64,
      "outputs": [
        {
          "output_type": "execute_result",
          "data": {
            "text/plain": [
              "[1, 'shreya', 'aashu', 10000, 45]"
            ]
          },
          "metadata": {},
          "execution_count": 64
        }
      ]
    },
    {
      "cell_type": "code",
      "source": [
        "#Q11.  Write a program that checks if a number is positive, negative, or zero.\n",
        "\n",
        "# Taking input from the user\n",
        "number = int(input(\"Enter a number: \"))\n",
        "\n",
        "# Checking if the number is positive, negative, or zero\n",
        "if number > 0:\n",
        "    print(\"The number is positive.\")\n",
        "elif number < 0:\n",
        "    print(\"The number is negative.\")\n",
        "else:\n",
        "    print(\"The number is zero.\")\n"
      ],
      "metadata": {
        "colab": {
          "base_uri": "https://localhost:8080/"
        },
        "id": "DZDcOkre9Ihn",
        "outputId": "619a5ff6-5919-4d04-c343-ce25bced8793"
      },
      "execution_count": 68,
      "outputs": [
        {
          "output_type": "stream",
          "name": "stdout",
          "text": [
            "Enter a number: 34\n",
            "The number is positive.\n"
          ]
        }
      ]
    },
    {
      "cell_type": "code",
      "source": [
        "#Q12.  Write a for loop to print numbers from 1 to 10.\n",
        "\n",
        "for i in range (1,11):  #taking (1,11) because if we will take(1,10) it will exclude 10\n",
        "  print(i)"
      ],
      "metadata": {
        "colab": {
          "base_uri": "https://localhost:8080/"
        },
        "id": "QqjlbxXk91gS",
        "outputId": "76f528c8-419b-446d-e6c3-22e55a46c1f7"
      },
      "execution_count": 74,
      "outputs": [
        {
          "output_type": "stream",
          "name": "stdout",
          "text": [
            "1\n",
            "2\n",
            "3\n",
            "4\n",
            "5\n",
            "6\n",
            "7\n",
            "8\n",
            "9\n",
            "10\n"
          ]
        }
      ]
    },
    {
      "cell_type": "code",
      "source": [
        "#Q13. Write a Python program to find the sum of all even numbers between 1 and 50.\n",
        "\n",
        "sum = 0\n",
        "\n",
        "for i in range(1, 51):\n",
        "    if i % 2 == 0:\n",
        "        sum += i\n",
        "\n",
        "print(\"This is the even number sum:\", sum)\n"
      ],
      "metadata": {
        "colab": {
          "base_uri": "https://localhost:8080/"
        },
        "id": "vYx6yOacAEdj",
        "outputId": "dc606d34-bc83-4c6a-b7db-9a3691740d06"
      },
      "execution_count": 83,
      "outputs": [
        {
          "output_type": "stream",
          "name": "stdout",
          "text": [
            "This is the even number sum: 650\n"
          ]
        }
      ]
    }
  ]
}